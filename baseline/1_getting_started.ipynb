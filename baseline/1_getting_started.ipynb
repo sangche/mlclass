{
  "cells": [
    {
      "cell_type": "markdown",
      "metadata": {
        "id": "view-in-github",
        "colab_type": "text"
      },
      "source": [
        "<a href=\"https://colab.research.google.com/github/sangche/mlclass/blob/master/baseline/1_getting_started.ipynb\" target=\"_parent\"><img src=\"https://colab.research.google.com/assets/colab-badge.svg\" alt=\"Open In Colab\"/></a>"
      ]
    },
    {
      "cell_type": "markdown",
      "metadata": {
        "id": "hyyN-2qyK_T2"
      },
      "source": [
        "# Stable Baselines3 Tutorial - Getting Started\n",
        "\n",
        "Github repo: https://github.com/araffin/rl-tutorial-jnrr19/tree/sb3/\n",
        "\n",
        "Stable-Baselines3: https://github.com/DLR-RM/stable-baselines3\n",
        "\n",
        "Documentation: https://stable-baselines3.readthedocs.io/en/master/\n",
        "\n",
        "SB3-Contrib: https://github.com/Stable-Baselines-Team/stable-baselines3-contrib\n",
        "\n",
        "RL Baselines3 zoo: https://github.com/DLR-RM/rl-baselines3-zoo\n",
        "\n",
        "[RL Baselines3 Zoo](https://github.com/DLR-RM/rl-baselines3-zoo) is a training framework for Reinforcement Learning (RL), using Stable Baselines3.\n",
        "\n",
        "It provides scripts for training, evaluating agents, tuning hyperparameters, plotting results and recording videos. ok\n",
        "\n",
        "\n",
        "## Introduction\n",
        "\n",
        "In this notebook, you will learn the basics for using stable baselines library: how to create a RL model, train it and evaluate it. Because all algorithms share the same interface, we will see how simple it is to switch from one algorithm to another.\n",
        "\n",
        "\n",
        "## Install Dependencies and Stable Baselines3 Using Pip\n",
        "\n",
        "List of full dependencies can be found in the [README](https://github.com/DLR-RM/stable-baselines3).\n",
        "\n",
        "\n",
        "```\n",
        "pip install stable-baselines3[extra]\n",
        "```"
      ]
    },
    {
      "cell_type": "code",
      "execution_count": null,
      "metadata": {
        "id": "DQAWstyuYqdK"
      },
      "outputs": [],
      "source": [
        "# for autoformatting\n",
        "# %load_ext jupyter_black"
      ]
    },
    {
      "cell_type": "code",
      "execution_count": 1,
      "metadata": {
        "id": "gWskDE2c9WoN",
        "colab": {
          "base_uri": "https://localhost:8080/"
        },
        "outputId": "0edfd688-e21b-42f4-8077-58bf61e5e82f"
      },
      "outputs": [
        {
          "output_type": "stream",
          "name": "stdout",
          "text": [
            "Reading package lists... Done\n",
            "Building dependency tree... Done\n",
            "Reading state information... Done\n",
            "ffmpeg is already the newest version (7:4.4.2-0ubuntu0.22.04.1).\n",
            "The following additional packages will be installed:\n",
            "  freeglut3 libegl-dev libfontenc1 libgl-dev libgl1-mesa-dev libgles-dev libgles1 libglu1-mesa\n",
            "  libglu1-mesa-dev libglvnd-core-dev libglvnd-dev libglx-dev libice-dev libopengl-dev libsm-dev\n",
            "  libxfont2 libxkbfile1 libxt-dev x11-xkb-utils xfonts-base xfonts-encodings xfonts-utils\n",
            "  xserver-common\n",
            "Suggested packages:\n",
            "  libice-doc libsm-doc libxt-doc\n",
            "The following NEW packages will be installed:\n",
            "  freeglut3 freeglut3-dev libegl-dev libfontenc1 libgl-dev libgl1-mesa-dev libgles-dev libgles1\n",
            "  libglu1-mesa libglu1-mesa-dev libglvnd-core-dev libglvnd-dev libglx-dev libice-dev libopengl-dev\n",
            "  libsm-dev libxfont2 libxkbfile1 libxt-dev x11-xkb-utils xfonts-base xfonts-encodings xfonts-utils\n",
            "  xserver-common xvfb\n",
            "0 upgraded, 25 newly installed, 0 to remove and 21 not upgraded.\n",
            "Need to get 9,076 kB of archives.\n",
            "After this operation, 18.7 MB of additional disk space will be used.\n",
            "Get:1 http://archive.ubuntu.com/ubuntu jammy/universe amd64 freeglut3 amd64 2.8.1-6 [74.0 kB]\n",
            "Get:2 http://archive.ubuntu.com/ubuntu jammy/main amd64 libglx-dev amd64 1.4.0-1 [14.1 kB]\n",
            "Get:3 http://archive.ubuntu.com/ubuntu jammy/main amd64 libgl-dev amd64 1.4.0-1 [101 kB]\n",
            "Get:4 http://archive.ubuntu.com/ubuntu jammy/main amd64 libglvnd-core-dev amd64 1.4.0-1 [12.7 kB]\n",
            "Get:5 http://archive.ubuntu.com/ubuntu jammy/main amd64 libegl-dev amd64 1.4.0-1 [18.0 kB]\n",
            "Get:6 http://archive.ubuntu.com/ubuntu jammy/main amd64 libgles1 amd64 1.4.0-1 [11.5 kB]\n",
            "Get:7 http://archive.ubuntu.com/ubuntu jammy/main amd64 libgles-dev amd64 1.4.0-1 [49.4 kB]\n",
            "Get:8 http://archive.ubuntu.com/ubuntu jammy/main amd64 libopengl-dev amd64 1.4.0-1 [3,400 B]\n",
            "Get:9 http://archive.ubuntu.com/ubuntu jammy/main amd64 libglvnd-dev amd64 1.4.0-1 [3,162 B]\n",
            "Get:10 http://archive.ubuntu.com/ubuntu jammy-updates/main amd64 libgl1-mesa-dev amd64 23.2.1-1ubuntu3.1~22.04.3 [6,848 B]\n",
            "Get:11 http://archive.ubuntu.com/ubuntu jammy/main amd64 libglu1-mesa amd64 9.0.2-1 [145 kB]\n",
            "Get:12 http://archive.ubuntu.com/ubuntu jammy/main amd64 libglu1-mesa-dev amd64 9.0.2-1 [231 kB]\n",
            "Get:13 http://archive.ubuntu.com/ubuntu jammy/main amd64 libice-dev amd64 2:1.0.10-1build2 [51.4 kB]\n",
            "Get:14 http://archive.ubuntu.com/ubuntu jammy/main amd64 libsm-dev amd64 2:1.2.3-1build2 [18.1 kB]\n",
            "Get:15 http://archive.ubuntu.com/ubuntu jammy/main amd64 libxt-dev amd64 1:1.2.1-1 [396 kB]\n",
            "Get:16 http://archive.ubuntu.com/ubuntu jammy/universe amd64 freeglut3-dev amd64 2.8.1-6 [126 kB]\n",
            "Get:17 http://archive.ubuntu.com/ubuntu jammy/main amd64 libfontenc1 amd64 1:1.1.4-1build3 [14.7 kB]\n",
            "Get:18 http://archive.ubuntu.com/ubuntu jammy/main amd64 libxfont2 amd64 1:2.0.5-1build1 [94.5 kB]\n",
            "Get:19 http://archive.ubuntu.com/ubuntu jammy/main amd64 libxkbfile1 amd64 1:1.1.0-1build3 [71.8 kB]\n",
            "Get:20 http://archive.ubuntu.com/ubuntu jammy/main amd64 x11-xkb-utils amd64 7.7+5build4 [172 kB]\n",
            "Get:21 http://archive.ubuntu.com/ubuntu jammy/main amd64 xfonts-encodings all 1:1.0.5-0ubuntu2 [578 kB]\n",
            "Get:22 http://archive.ubuntu.com/ubuntu jammy/main amd64 xfonts-utils amd64 1:7.7+6build2 [94.6 kB]\n",
            "Get:23 http://archive.ubuntu.com/ubuntu jammy/main amd64 xfonts-base all 1:1.0.5 [5,896 kB]\n",
            "Get:24 http://archive.ubuntu.com/ubuntu jammy-updates/main amd64 xserver-common all 2:21.1.4-2ubuntu1.7~22.04.12 [28.7 kB]\n",
            "Get:25 http://archive.ubuntu.com/ubuntu jammy-updates/universe amd64 xvfb amd64 2:21.1.4-2ubuntu1.7~22.04.12 [864 kB]\n",
            "Fetched 9,076 kB in 1s (7,465 kB/s)\n",
            "Selecting previously unselected package freeglut3:amd64.\n",
            "(Reading database ... 124926 files and directories currently installed.)\n",
            "Preparing to unpack .../00-freeglut3_2.8.1-6_amd64.deb ...\n",
            "Unpacking freeglut3:amd64 (2.8.1-6) ...\n",
            "Selecting previously unselected package libglx-dev:amd64.\n",
            "Preparing to unpack .../01-libglx-dev_1.4.0-1_amd64.deb ...\n",
            "Unpacking libglx-dev:amd64 (1.4.0-1) ...\n",
            "Selecting previously unselected package libgl-dev:amd64.\n",
            "Preparing to unpack .../02-libgl-dev_1.4.0-1_amd64.deb ...\n",
            "Unpacking libgl-dev:amd64 (1.4.0-1) ...\n",
            "Selecting previously unselected package libglvnd-core-dev:amd64.\n",
            "Preparing to unpack .../03-libglvnd-core-dev_1.4.0-1_amd64.deb ...\n",
            "Unpacking libglvnd-core-dev:amd64 (1.4.0-1) ...\n",
            "Selecting previously unselected package libegl-dev:amd64.\n",
            "Preparing to unpack .../04-libegl-dev_1.4.0-1_amd64.deb ...\n",
            "Unpacking libegl-dev:amd64 (1.4.0-1) ...\n",
            "Selecting previously unselected package libgles1:amd64.\n",
            "Preparing to unpack .../05-libgles1_1.4.0-1_amd64.deb ...\n",
            "Unpacking libgles1:amd64 (1.4.0-1) ...\n",
            "Selecting previously unselected package libgles-dev:amd64.\n",
            "Preparing to unpack .../06-libgles-dev_1.4.0-1_amd64.deb ...\n",
            "Unpacking libgles-dev:amd64 (1.4.0-1) ...\n",
            "Selecting previously unselected package libopengl-dev:amd64.\n",
            "Preparing to unpack .../07-libopengl-dev_1.4.0-1_amd64.deb ...\n",
            "Unpacking libopengl-dev:amd64 (1.4.0-1) ...\n",
            "Selecting previously unselected package libglvnd-dev:amd64.\n",
            "Preparing to unpack .../08-libglvnd-dev_1.4.0-1_amd64.deb ...\n",
            "Unpacking libglvnd-dev:amd64 (1.4.0-1) ...\n",
            "Selecting previously unselected package libgl1-mesa-dev:amd64.\n",
            "Preparing to unpack .../09-libgl1-mesa-dev_23.2.1-1ubuntu3.1~22.04.3_amd64.deb ...\n",
            "Unpacking libgl1-mesa-dev:amd64 (23.2.1-1ubuntu3.1~22.04.3) ...\n",
            "Selecting previously unselected package libglu1-mesa:amd64.\n",
            "Preparing to unpack .../10-libglu1-mesa_9.0.2-1_amd64.deb ...\n",
            "Unpacking libglu1-mesa:amd64 (9.0.2-1) ...\n",
            "Selecting previously unselected package libglu1-mesa-dev:amd64.\n",
            "Preparing to unpack .../11-libglu1-mesa-dev_9.0.2-1_amd64.deb ...\n",
            "Unpacking libglu1-mesa-dev:amd64 (9.0.2-1) ...\n",
            "Selecting previously unselected package libice-dev:amd64.\n",
            "Preparing to unpack .../12-libice-dev_2%3a1.0.10-1build2_amd64.deb ...\n",
            "Unpacking libice-dev:amd64 (2:1.0.10-1build2) ...\n",
            "Selecting previously unselected package libsm-dev:amd64.\n",
            "Preparing to unpack .../13-libsm-dev_2%3a1.2.3-1build2_amd64.deb ...\n",
            "Unpacking libsm-dev:amd64 (2:1.2.3-1build2) ...\n",
            "Selecting previously unselected package libxt-dev:amd64.\n",
            "Preparing to unpack .../14-libxt-dev_1%3a1.2.1-1_amd64.deb ...\n",
            "Unpacking libxt-dev:amd64 (1:1.2.1-1) ...\n",
            "Selecting previously unselected package freeglut3-dev:amd64.\n",
            "Preparing to unpack .../15-freeglut3-dev_2.8.1-6_amd64.deb ...\n",
            "Unpacking freeglut3-dev:amd64 (2.8.1-6) ...\n",
            "Selecting previously unselected package libfontenc1:amd64.\n",
            "Preparing to unpack .../16-libfontenc1_1%3a1.1.4-1build3_amd64.deb ...\n",
            "Unpacking libfontenc1:amd64 (1:1.1.4-1build3) ...\n",
            "Selecting previously unselected package libxfont2:amd64.\n",
            "Preparing to unpack .../17-libxfont2_1%3a2.0.5-1build1_amd64.deb ...\n",
            "Unpacking libxfont2:amd64 (1:2.0.5-1build1) ...\n",
            "Selecting previously unselected package libxkbfile1:amd64.\n",
            "Preparing to unpack .../18-libxkbfile1_1%3a1.1.0-1build3_amd64.deb ...\n",
            "Unpacking libxkbfile1:amd64 (1:1.1.0-1build3) ...\n",
            "Selecting previously unselected package x11-xkb-utils.\n",
            "Preparing to unpack .../19-x11-xkb-utils_7.7+5build4_amd64.deb ...\n",
            "Unpacking x11-xkb-utils (7.7+5build4) ...\n",
            "Selecting previously unselected package xfonts-encodings.\n",
            "Preparing to unpack .../20-xfonts-encodings_1%3a1.0.5-0ubuntu2_all.deb ...\n",
            "Unpacking xfonts-encodings (1:1.0.5-0ubuntu2) ...\n",
            "Selecting previously unselected package xfonts-utils.\n",
            "Preparing to unpack .../21-xfonts-utils_1%3a7.7+6build2_amd64.deb ...\n",
            "Unpacking xfonts-utils (1:7.7+6build2) ...\n",
            "Selecting previously unselected package xfonts-base.\n",
            "Preparing to unpack .../22-xfonts-base_1%3a1.0.5_all.deb ...\n",
            "Unpacking xfonts-base (1:1.0.5) ...\n",
            "Selecting previously unselected package xserver-common.\n",
            "Preparing to unpack .../23-xserver-common_2%3a21.1.4-2ubuntu1.7~22.04.12_all.deb ...\n",
            "Unpacking xserver-common (2:21.1.4-2ubuntu1.7~22.04.12) ...\n",
            "Selecting previously unselected package xvfb.\n",
            "Preparing to unpack .../24-xvfb_2%3a21.1.4-2ubuntu1.7~22.04.12_amd64.deb ...\n",
            "Unpacking xvfb (2:21.1.4-2ubuntu1.7~22.04.12) ...\n",
            "Setting up freeglut3:amd64 (2.8.1-6) ...\n",
            "Setting up libglvnd-core-dev:amd64 (1.4.0-1) ...\n",
            "Setting up libice-dev:amd64 (2:1.0.10-1build2) ...\n",
            "Setting up libsm-dev:amd64 (2:1.2.3-1build2) ...\n",
            "Setting up libfontenc1:amd64 (1:1.1.4-1build3) ...\n",
            "Setting up libxt-dev:amd64 (1:1.2.1-1) ...\n",
            "Setting up libgles1:amd64 (1.4.0-1) ...\n",
            "Setting up xfonts-encodings (1:1.0.5-0ubuntu2) ...\n",
            "Setting up libglx-dev:amd64 (1.4.0-1) ...\n",
            "Setting up libglu1-mesa:amd64 (9.0.2-1) ...\n",
            "Setting up libxkbfile1:amd64 (1:1.1.0-1build3) ...\n",
            "Setting up libopengl-dev:amd64 (1.4.0-1) ...\n",
            "Setting up libxfont2:amd64 (1:2.0.5-1build1) ...\n",
            "Setting up libgl-dev:amd64 (1.4.0-1) ...\n",
            "Setting up libegl-dev:amd64 (1.4.0-1) ...\n",
            "Setting up x11-xkb-utils (7.7+5build4) ...\n",
            "Setting up xfonts-utils (1:7.7+6build2) ...\n",
            "Setting up xfonts-base (1:1.0.5) ...\n",
            "Setting up libglu1-mesa-dev:amd64 (9.0.2-1) ...\n",
            "Setting up xserver-common (2:21.1.4-2ubuntu1.7~22.04.12) ...\n",
            "Setting up libgles-dev:amd64 (1.4.0-1) ...\n",
            "Setting up xvfb (2:21.1.4-2ubuntu1.7~22.04.12) ...\n",
            "Setting up libglvnd-dev:amd64 (1.4.0-1) ...\n",
            "Setting up libgl1-mesa-dev:amd64 (23.2.1-1ubuntu3.1~22.04.3) ...\n",
            "Setting up freeglut3-dev:amd64 (2.8.1-6) ...\n",
            "Processing triggers for libc-bin (2.35-0ubuntu3.8) ...\n",
            "/sbin/ldconfig.real: /usr/local/lib/libhwloc.so.15 is not a symbolic link\n",
            "\n",
            "/sbin/ldconfig.real: /usr/local/lib/libtcm.so.1 is not a symbolic link\n",
            "\n",
            "/sbin/ldconfig.real: /usr/local/lib/libtbb.so.12 is not a symbolic link\n",
            "\n",
            "/sbin/ldconfig.real: /usr/local/lib/libtbbbind_2_0.so.3 is not a symbolic link\n",
            "\n",
            "/sbin/ldconfig.real: /usr/local/lib/libtbbbind.so.3 is not a symbolic link\n",
            "\n",
            "/sbin/ldconfig.real: /usr/local/lib/libumf.so.0 is not a symbolic link\n",
            "\n",
            "/sbin/ldconfig.real: /usr/local/lib/libur_adapter_opencl.so.0 is not a symbolic link\n",
            "\n",
            "/sbin/ldconfig.real: /usr/local/lib/libur_loader.so.0 is not a symbolic link\n",
            "\n",
            "/sbin/ldconfig.real: /usr/local/lib/libtbbmalloc_proxy.so.2 is not a symbolic link\n",
            "\n",
            "/sbin/ldconfig.real: /usr/local/lib/libtbbbind_2_5.so.3 is not a symbolic link\n",
            "\n",
            "/sbin/ldconfig.real: /usr/local/lib/libur_adapter_level_zero.so.0 is not a symbolic link\n",
            "\n",
            "/sbin/ldconfig.real: /usr/local/lib/libtbbmalloc.so.2 is not a symbolic link\n",
            "\n",
            "/sbin/ldconfig.real: /usr/local/lib/libtcm_debug.so.1 is not a symbolic link\n",
            "\n",
            "Processing triggers for man-db (2.10.2-1) ...\n",
            "Processing triggers for fontconfig (2.13.1-4.2ubuntu5) ...\n",
            "Collecting stable-baselines3>=2.0.0a4 (from stable-baselines3[extra]>=2.0.0a4)\n",
            "  Downloading stable_baselines3-2.6.0a1-py3-none-any.whl.metadata (4.8 kB)\n",
            "Requirement already satisfied: gymnasium<1.1.0,>=0.29.1 in /usr/local/lib/python3.11/dist-packages (from stable-baselines3>=2.0.0a4->stable-baselines3[extra]>=2.0.0a4) (1.0.0)\n",
            "Requirement already satisfied: numpy<3.0,>=1.20 in /usr/local/lib/python3.11/dist-packages (from stable-baselines3>=2.0.0a4->stable-baselines3[extra]>=2.0.0a4) (1.26.4)\n",
            "Requirement already satisfied: torch<3.0,>=2.3 in /usr/local/lib/python3.11/dist-packages (from stable-baselines3>=2.0.0a4->stable-baselines3[extra]>=2.0.0a4) (2.5.1+cu124)\n",
            "Requirement already satisfied: cloudpickle in /usr/local/lib/python3.11/dist-packages (from stable-baselines3>=2.0.0a4->stable-baselines3[extra]>=2.0.0a4) (3.1.1)\n",
            "Requirement already satisfied: pandas in /usr/local/lib/python3.11/dist-packages (from stable-baselines3>=2.0.0a4->stable-baselines3[extra]>=2.0.0a4) (2.2.2)\n",
            "Requirement already satisfied: matplotlib in /usr/local/lib/python3.11/dist-packages (from stable-baselines3>=2.0.0a4->stable-baselines3[extra]>=2.0.0a4) (3.10.0)\n",
            "Requirement already satisfied: opencv-python in /usr/local/lib/python3.11/dist-packages (from stable-baselines3[extra]>=2.0.0a4) (4.11.0.86)\n",
            "Requirement already satisfied: pygame in /usr/local/lib/python3.11/dist-packages (from stable-baselines3[extra]>=2.0.0a4) (2.6.1)\n",
            "Requirement already satisfied: tensorboard>=2.9.1 in /usr/local/lib/python3.11/dist-packages (from stable-baselines3[extra]>=2.0.0a4) (2.18.0)\n",
            "Requirement already satisfied: psutil in /usr/local/lib/python3.11/dist-packages (from stable-baselines3[extra]>=2.0.0a4) (5.9.5)\n",
            "Requirement already satisfied: tqdm in /usr/local/lib/python3.11/dist-packages (from stable-baselines3[extra]>=2.0.0a4) (4.67.1)\n",
            "Requirement already satisfied: rich in /usr/local/lib/python3.11/dist-packages (from stable-baselines3[extra]>=2.0.0a4) (13.9.4)\n",
            "Requirement already satisfied: ale-py>=0.9.0 in /usr/local/lib/python3.11/dist-packages (from stable-baselines3[extra]>=2.0.0a4) (0.10.2)\n",
            "Requirement already satisfied: pillow in /usr/local/lib/python3.11/dist-packages (from stable-baselines3[extra]>=2.0.0a4) (11.1.0)\n",
            "Requirement already satisfied: typing-extensions>=4.3.0 in /usr/local/lib/python3.11/dist-packages (from gymnasium<1.1.0,>=0.29.1->stable-baselines3>=2.0.0a4->stable-baselines3[extra]>=2.0.0a4) (4.12.2)\n",
            "Requirement already satisfied: farama-notifications>=0.0.1 in /usr/local/lib/python3.11/dist-packages (from gymnasium<1.1.0,>=0.29.1->stable-baselines3>=2.0.0a4->stable-baselines3[extra]>=2.0.0a4) (0.0.4)\n",
            "Requirement already satisfied: absl-py>=0.4 in /usr/local/lib/python3.11/dist-packages (from tensorboard>=2.9.1->stable-baselines3[extra]>=2.0.0a4) (1.4.0)\n",
            "Requirement already satisfied: grpcio>=1.48.2 in /usr/local/lib/python3.11/dist-packages (from tensorboard>=2.9.1->stable-baselines3[extra]>=2.0.0a4) (1.70.0)\n",
            "Requirement already satisfied: markdown>=2.6.8 in /usr/local/lib/python3.11/dist-packages (from tensorboard>=2.9.1->stable-baselines3[extra]>=2.0.0a4) (3.7)\n",
            "Requirement already satisfied: packaging in /usr/local/lib/python3.11/dist-packages (from tensorboard>=2.9.1->stable-baselines3[extra]>=2.0.0a4) (24.2)\n",
            "Requirement already satisfied: protobuf!=4.24.0,>=3.19.6 in /usr/local/lib/python3.11/dist-packages (from tensorboard>=2.9.1->stable-baselines3[extra]>=2.0.0a4) (4.25.6)\n",
            "Requirement already satisfied: setuptools>=41.0.0 in /usr/local/lib/python3.11/dist-packages (from tensorboard>=2.9.1->stable-baselines3[extra]>=2.0.0a4) (75.1.0)\n",
            "Requirement already satisfied: six>1.9 in /usr/local/lib/python3.11/dist-packages (from tensorboard>=2.9.1->stable-baselines3[extra]>=2.0.0a4) (1.17.0)\n",
            "Requirement already satisfied: tensorboard-data-server<0.8.0,>=0.7.0 in /usr/local/lib/python3.11/dist-packages (from tensorboard>=2.9.1->stable-baselines3[extra]>=2.0.0a4) (0.7.2)\n",
            "Requirement already satisfied: werkzeug>=1.0.1 in /usr/local/lib/python3.11/dist-packages (from tensorboard>=2.9.1->stable-baselines3[extra]>=2.0.0a4) (3.1.3)\n",
            "Requirement already satisfied: filelock in /usr/local/lib/python3.11/dist-packages (from torch<3.0,>=2.3->stable-baselines3>=2.0.0a4->stable-baselines3[extra]>=2.0.0a4) (3.17.0)\n",
            "Requirement already satisfied: networkx in /usr/local/lib/python3.11/dist-packages (from torch<3.0,>=2.3->stable-baselines3>=2.0.0a4->stable-baselines3[extra]>=2.0.0a4) (3.4.2)\n",
            "Requirement already satisfied: jinja2 in /usr/local/lib/python3.11/dist-packages (from torch<3.0,>=2.3->stable-baselines3>=2.0.0a4->stable-baselines3[extra]>=2.0.0a4) (3.1.5)\n",
            "Requirement already satisfied: fsspec in /usr/local/lib/python3.11/dist-packages (from torch<3.0,>=2.3->stable-baselines3>=2.0.0a4->stable-baselines3[extra]>=2.0.0a4) (2024.10.0)\n",
            "Collecting nvidia-cuda-nvrtc-cu12==12.4.127 (from torch<3.0,>=2.3->stable-baselines3>=2.0.0a4->stable-baselines3[extra]>=2.0.0a4)\n",
            "  Downloading nvidia_cuda_nvrtc_cu12-12.4.127-py3-none-manylinux2014_x86_64.whl.metadata (1.5 kB)\n",
            "Collecting nvidia-cuda-runtime-cu12==12.4.127 (from torch<3.0,>=2.3->stable-baselines3>=2.0.0a4->stable-baselines3[extra]>=2.0.0a4)\n",
            "  Downloading nvidia_cuda_runtime_cu12-12.4.127-py3-none-manylinux2014_x86_64.whl.metadata (1.5 kB)\n",
            "Collecting nvidia-cuda-cupti-cu12==12.4.127 (from torch<3.0,>=2.3->stable-baselines3>=2.0.0a4->stable-baselines3[extra]>=2.0.0a4)\n",
            "  Downloading nvidia_cuda_cupti_cu12-12.4.127-py3-none-manylinux2014_x86_64.whl.metadata (1.6 kB)\n",
            "Collecting nvidia-cudnn-cu12==9.1.0.70 (from torch<3.0,>=2.3->stable-baselines3>=2.0.0a4->stable-baselines3[extra]>=2.0.0a4)\n",
            "  Downloading nvidia_cudnn_cu12-9.1.0.70-py3-none-manylinux2014_x86_64.whl.metadata (1.6 kB)\n",
            "Collecting nvidia-cublas-cu12==12.4.5.8 (from torch<3.0,>=2.3->stable-baselines3>=2.0.0a4->stable-baselines3[extra]>=2.0.0a4)\n",
            "  Downloading nvidia_cublas_cu12-12.4.5.8-py3-none-manylinux2014_x86_64.whl.metadata (1.5 kB)\n",
            "Collecting nvidia-cufft-cu12==11.2.1.3 (from torch<3.0,>=2.3->stable-baselines3>=2.0.0a4->stable-baselines3[extra]>=2.0.0a4)\n",
            "  Downloading nvidia_cufft_cu12-11.2.1.3-py3-none-manylinux2014_x86_64.whl.metadata (1.5 kB)\n",
            "Collecting nvidia-curand-cu12==10.3.5.147 (from torch<3.0,>=2.3->stable-baselines3>=2.0.0a4->stable-baselines3[extra]>=2.0.0a4)\n",
            "  Downloading nvidia_curand_cu12-10.3.5.147-py3-none-manylinux2014_x86_64.whl.metadata (1.5 kB)\n",
            "Collecting nvidia-cusolver-cu12==11.6.1.9 (from torch<3.0,>=2.3->stable-baselines3>=2.0.0a4->stable-baselines3[extra]>=2.0.0a4)\n",
            "  Downloading nvidia_cusolver_cu12-11.6.1.9-py3-none-manylinux2014_x86_64.whl.metadata (1.6 kB)\n",
            "Collecting nvidia-cusparse-cu12==12.3.1.170 (from torch<3.0,>=2.3->stable-baselines3>=2.0.0a4->stable-baselines3[extra]>=2.0.0a4)\n",
            "  Downloading nvidia_cusparse_cu12-12.3.1.170-py3-none-manylinux2014_x86_64.whl.metadata (1.6 kB)\n",
            "Requirement already satisfied: nvidia-nccl-cu12==2.21.5 in /usr/local/lib/python3.11/dist-packages (from torch<3.0,>=2.3->stable-baselines3>=2.0.0a4->stable-baselines3[extra]>=2.0.0a4) (2.21.5)\n",
            "Requirement already satisfied: nvidia-nvtx-cu12==12.4.127 in /usr/local/lib/python3.11/dist-packages (from torch<3.0,>=2.3->stable-baselines3>=2.0.0a4->stable-baselines3[extra]>=2.0.0a4) (12.4.127)\n",
            "Collecting nvidia-nvjitlink-cu12==12.4.127 (from torch<3.0,>=2.3->stable-baselines3>=2.0.0a4->stable-baselines3[extra]>=2.0.0a4)\n",
            "  Downloading nvidia_nvjitlink_cu12-12.4.127-py3-none-manylinux2014_x86_64.whl.metadata (1.5 kB)\n",
            "Requirement already satisfied: triton==3.1.0 in /usr/local/lib/python3.11/dist-packages (from torch<3.0,>=2.3->stable-baselines3>=2.0.0a4->stable-baselines3[extra]>=2.0.0a4) (3.1.0)\n",
            "Requirement already satisfied: sympy==1.13.1 in /usr/local/lib/python3.11/dist-packages (from torch<3.0,>=2.3->stable-baselines3>=2.0.0a4->stable-baselines3[extra]>=2.0.0a4) (1.13.1)\n",
            "Requirement already satisfied: mpmath<1.4,>=1.1.0 in /usr/local/lib/python3.11/dist-packages (from sympy==1.13.1->torch<3.0,>=2.3->stable-baselines3>=2.0.0a4->stable-baselines3[extra]>=2.0.0a4) (1.3.0)\n",
            "Requirement already satisfied: contourpy>=1.0.1 in /usr/local/lib/python3.11/dist-packages (from matplotlib->stable-baselines3>=2.0.0a4->stable-baselines3[extra]>=2.0.0a4) (1.3.1)\n",
            "Requirement already satisfied: cycler>=0.10 in /usr/local/lib/python3.11/dist-packages (from matplotlib->stable-baselines3>=2.0.0a4->stable-baselines3[extra]>=2.0.0a4) (0.12.1)\n",
            "Requirement already satisfied: fonttools>=4.22.0 in /usr/local/lib/python3.11/dist-packages (from matplotlib->stable-baselines3>=2.0.0a4->stable-baselines3[extra]>=2.0.0a4) (4.56.0)\n",
            "Requirement already satisfied: kiwisolver>=1.3.1 in /usr/local/lib/python3.11/dist-packages (from matplotlib->stable-baselines3>=2.0.0a4->stable-baselines3[extra]>=2.0.0a4) (1.4.8)\n",
            "Requirement already satisfied: pyparsing>=2.3.1 in /usr/local/lib/python3.11/dist-packages (from matplotlib->stable-baselines3>=2.0.0a4->stable-baselines3[extra]>=2.0.0a4) (3.2.1)\n",
            "Requirement already satisfied: python-dateutil>=2.7 in /usr/local/lib/python3.11/dist-packages (from matplotlib->stable-baselines3>=2.0.0a4->stable-baselines3[extra]>=2.0.0a4) (2.8.2)\n",
            "Requirement already satisfied: pytz>=2020.1 in /usr/local/lib/python3.11/dist-packages (from pandas->stable-baselines3>=2.0.0a4->stable-baselines3[extra]>=2.0.0a4) (2025.1)\n",
            "Requirement already satisfied: tzdata>=2022.7 in /usr/local/lib/python3.11/dist-packages (from pandas->stable-baselines3>=2.0.0a4->stable-baselines3[extra]>=2.0.0a4) (2025.1)\n",
            "Requirement already satisfied: markdown-it-py>=2.2.0 in /usr/local/lib/python3.11/dist-packages (from rich->stable-baselines3[extra]>=2.0.0a4) (3.0.0)\n",
            "Requirement already satisfied: pygments<3.0.0,>=2.13.0 in /usr/local/lib/python3.11/dist-packages (from rich->stable-baselines3[extra]>=2.0.0a4) (2.18.0)\n",
            "Requirement already satisfied: mdurl~=0.1 in /usr/local/lib/python3.11/dist-packages (from markdown-it-py>=2.2.0->rich->stable-baselines3[extra]>=2.0.0a4) (0.1.2)\n",
            "Requirement already satisfied: MarkupSafe>=2.1.1 in /usr/local/lib/python3.11/dist-packages (from werkzeug>=1.0.1->tensorboard>=2.9.1->stable-baselines3[extra]>=2.0.0a4) (3.0.2)\n",
            "Downloading stable_baselines3-2.6.0a1-py3-none-any.whl (184 kB)\n",
            "\u001b[2K   \u001b[90m━━━━━━━━━━━━━━━━━━━━━━━━━━━━━━━━━━━━━━━━\u001b[0m \u001b[32m184.5/184.5 kB\u001b[0m \u001b[31m7.4 MB/s\u001b[0m eta \u001b[36m0:00:00\u001b[0m\n",
            "\u001b[?25hDownloading nvidia_cublas_cu12-12.4.5.8-py3-none-manylinux2014_x86_64.whl (363.4 MB)\n",
            "\u001b[2K   \u001b[90m━━━━━━━━━━━━━━━━━━━━━━━━━━━━━━━━━━━━━━━━\u001b[0m \u001b[32m363.4/363.4 MB\u001b[0m \u001b[31m4.5 MB/s\u001b[0m eta \u001b[36m0:00:00\u001b[0m\n",
            "\u001b[?25hDownloading nvidia_cuda_cupti_cu12-12.4.127-py3-none-manylinux2014_x86_64.whl (13.8 MB)\n",
            "\u001b[2K   \u001b[90m━━━━━━━━━━━━━━━━━━━━━━━━━━━━━━━━━━━━━━━━\u001b[0m \u001b[32m13.8/13.8 MB\u001b[0m \u001b[31m62.1 MB/s\u001b[0m eta \u001b[36m0:00:00\u001b[0m\n",
            "\u001b[?25hDownloading nvidia_cuda_nvrtc_cu12-12.4.127-py3-none-manylinux2014_x86_64.whl (24.6 MB)\n",
            "\u001b[2K   \u001b[90m━━━━━━━━━━━━━━━━━━━━━━━━━━━━━━━━━━━━━━━━\u001b[0m \u001b[32m24.6/24.6 MB\u001b[0m \u001b[31m49.1 MB/s\u001b[0m eta \u001b[36m0:00:00\u001b[0m\n",
            "\u001b[?25hDownloading nvidia_cuda_runtime_cu12-12.4.127-py3-none-manylinux2014_x86_64.whl (883 kB)\n",
            "\u001b[2K   \u001b[90m━━━━━━━━━━━━━━━━━━━━━━━━━━━━━━━━━━━━━━━━\u001b[0m \u001b[32m883.7/883.7 kB\u001b[0m \u001b[31m37.9 MB/s\u001b[0m eta \u001b[36m0:00:00\u001b[0m\n",
            "\u001b[?25hDownloading nvidia_cudnn_cu12-9.1.0.70-py3-none-manylinux2014_x86_64.whl (664.8 MB)\n",
            "\u001b[2K   \u001b[90m━━━━━━━━━━━━━━━━━━━━━━━━━━━━━━━━━━━━━━━━\u001b[0m \u001b[32m664.8/664.8 MB\u001b[0m \u001b[31m2.2 MB/s\u001b[0m eta \u001b[36m0:00:00\u001b[0m\n",
            "\u001b[?25hDownloading nvidia_cufft_cu12-11.2.1.3-py3-none-manylinux2014_x86_64.whl (211.5 MB)\n",
            "\u001b[2K   \u001b[90m━━━━━━━━━━━━━━━━━━━━━━━━━━━━━━━━━━━━━━━━\u001b[0m \u001b[32m211.5/211.5 MB\u001b[0m \u001b[31m6.7 MB/s\u001b[0m eta \u001b[36m0:00:00\u001b[0m\n",
            "\u001b[?25hDownloading nvidia_curand_cu12-10.3.5.147-py3-none-manylinux2014_x86_64.whl (56.3 MB)\n",
            "\u001b[2K   \u001b[90m━━━━━━━━━━━━━━━━━━━━━━━━━━━━━━━━━━━━━━━━\u001b[0m \u001b[32m56.3/56.3 MB\u001b[0m \u001b[31m10.5 MB/s\u001b[0m eta \u001b[36m0:00:00\u001b[0m\n",
            "\u001b[?25hDownloading nvidia_cusolver_cu12-11.6.1.9-py3-none-manylinux2014_x86_64.whl (127.9 MB)\n",
            "\u001b[2K   \u001b[90m━━━━━━━━━━━━━━━━━━━━━━━━━━━━━━━━━━━━━━━━\u001b[0m \u001b[32m127.9/127.9 MB\u001b[0m \u001b[31m7.9 MB/s\u001b[0m eta \u001b[36m0:00:00\u001b[0m\n",
            "\u001b[?25hDownloading nvidia_cusparse_cu12-12.3.1.170-py3-none-manylinux2014_x86_64.whl (207.5 MB)\n",
            "\u001b[2K   \u001b[90m━━━━━━━━━━━━━━━━━━━━━━━━━━━━━━━━━━━━━━━━\u001b[0m \u001b[32m207.5/207.5 MB\u001b[0m \u001b[31m5.2 MB/s\u001b[0m eta \u001b[36m0:00:00\u001b[0m\n",
            "\u001b[?25hDownloading nvidia_nvjitlink_cu12-12.4.127-py3-none-manylinux2014_x86_64.whl (21.1 MB)\n",
            "\u001b[2K   \u001b[90m━━━━━━━━━━━━━━━━━━━━━━━━━━━━━━━━━━━━━━━━\u001b[0m \u001b[32m21.1/21.1 MB\u001b[0m \u001b[31m64.4 MB/s\u001b[0m eta \u001b[36m0:00:00\u001b[0m\n",
            "\u001b[?25hInstalling collected packages: nvidia-nvjitlink-cu12, nvidia-curand-cu12, nvidia-cufft-cu12, nvidia-cuda-runtime-cu12, nvidia-cuda-nvrtc-cu12, nvidia-cuda-cupti-cu12, nvidia-cublas-cu12, nvidia-cusparse-cu12, nvidia-cudnn-cu12, nvidia-cusolver-cu12, stable-baselines3\n",
            "  Attempting uninstall: nvidia-nvjitlink-cu12\n",
            "    Found existing installation: nvidia-nvjitlink-cu12 12.5.82\n",
            "    Uninstalling nvidia-nvjitlink-cu12-12.5.82:\n",
            "      Successfully uninstalled nvidia-nvjitlink-cu12-12.5.82\n",
            "  Attempting uninstall: nvidia-curand-cu12\n",
            "    Found existing installation: nvidia-curand-cu12 10.3.6.82\n",
            "    Uninstalling nvidia-curand-cu12-10.3.6.82:\n",
            "      Successfully uninstalled nvidia-curand-cu12-10.3.6.82\n",
            "  Attempting uninstall: nvidia-cufft-cu12\n",
            "    Found existing installation: nvidia-cufft-cu12 11.2.3.61\n",
            "    Uninstalling nvidia-cufft-cu12-11.2.3.61:\n",
            "      Successfully uninstalled nvidia-cufft-cu12-11.2.3.61\n",
            "  Attempting uninstall: nvidia-cuda-runtime-cu12\n",
            "    Found existing installation: nvidia-cuda-runtime-cu12 12.5.82\n",
            "    Uninstalling nvidia-cuda-runtime-cu12-12.5.82:\n",
            "      Successfully uninstalled nvidia-cuda-runtime-cu12-12.5.82\n",
            "  Attempting uninstall: nvidia-cuda-nvrtc-cu12\n",
            "    Found existing installation: nvidia-cuda-nvrtc-cu12 12.5.82\n",
            "    Uninstalling nvidia-cuda-nvrtc-cu12-12.5.82:\n",
            "      Successfully uninstalled nvidia-cuda-nvrtc-cu12-12.5.82\n",
            "  Attempting uninstall: nvidia-cuda-cupti-cu12\n",
            "    Found existing installation: nvidia-cuda-cupti-cu12 12.5.82\n",
            "    Uninstalling nvidia-cuda-cupti-cu12-12.5.82:\n",
            "      Successfully uninstalled nvidia-cuda-cupti-cu12-12.5.82\n",
            "  Attempting uninstall: nvidia-cublas-cu12\n",
            "    Found existing installation: nvidia-cublas-cu12 12.5.3.2\n",
            "    Uninstalling nvidia-cublas-cu12-12.5.3.2:\n",
            "      Successfully uninstalled nvidia-cublas-cu12-12.5.3.2\n",
            "  Attempting uninstall: nvidia-cusparse-cu12\n",
            "    Found existing installation: nvidia-cusparse-cu12 12.5.1.3\n",
            "    Uninstalling nvidia-cusparse-cu12-12.5.1.3:\n",
            "      Successfully uninstalled nvidia-cusparse-cu12-12.5.1.3\n",
            "  Attempting uninstall: nvidia-cudnn-cu12\n",
            "    Found existing installation: nvidia-cudnn-cu12 9.3.0.75\n",
            "    Uninstalling nvidia-cudnn-cu12-9.3.0.75:\n",
            "      Successfully uninstalled nvidia-cudnn-cu12-9.3.0.75\n",
            "  Attempting uninstall: nvidia-cusolver-cu12\n",
            "    Found existing installation: nvidia-cusolver-cu12 11.6.3.83\n",
            "    Uninstalling nvidia-cusolver-cu12-11.6.3.83:\n",
            "      Successfully uninstalled nvidia-cusolver-cu12-11.6.3.83\n",
            "Successfully installed nvidia-cublas-cu12-12.4.5.8 nvidia-cuda-cupti-cu12-12.4.127 nvidia-cuda-nvrtc-cu12-12.4.127 nvidia-cuda-runtime-cu12-12.4.127 nvidia-cudnn-cu12-9.1.0.70 nvidia-cufft-cu12-11.2.1.3 nvidia-curand-cu12-10.3.5.147 nvidia-cusolver-cu12-11.6.1.9 nvidia-cusparse-cu12-12.3.1.170 nvidia-nvjitlink-cu12-12.4.127 stable-baselines3-2.6.0a1\n"
          ]
        }
      ],
      "source": [
        "!apt-get install ffmpeg freeglut3-dev xvfb  # For visualization\n",
        "!pip install \"stable-baselines3[extra]>=2.0.0a4\""
      ]
    },
    {
      "cell_type": "markdown",
      "metadata": {
        "id": "FtY8FhliLsGm"
      },
      "source": [
        "## Imports"
      ]
    },
    {
      "cell_type": "markdown",
      "metadata": {
        "id": "gcX8hEcaUpR0"
      },
      "source": [
        "Stable-Baselines3 works on environments that follow the [gym interface](https://stable-baselines3.readthedocs.io/en/master/guide/custom_env.html).\n",
        "You can find a list of available environment [here](https://gymnasium.farama.org/environments/classic_control/).\n",
        "\n",
        "Not all algorithms can work with all action spaces, you can find more in this [recap table](https://stable-baselines3.readthedocs.io/en/master/guide/algos.html)"
      ]
    },
    {
      "cell_type": "code",
      "execution_count": 2,
      "metadata": {
        "id": "BIedd7Pz9sOs"
      },
      "outputs": [],
      "source": [
        "import gymnasium as gym\n",
        "import numpy as np"
      ]
    },
    {
      "cell_type": "markdown",
      "metadata": {
        "id": "Ae32CtgzTG3R"
      },
      "source": [
        "The first thing you need to import is the RL model, check the documentation to know what you can use on which problem"
      ]
    },
    {
      "cell_type": "code",
      "execution_count": 3,
      "metadata": {
        "id": "R7tKaBFrTR0a"
      },
      "outputs": [],
      "source": [
        "from stable_baselines3 import PPO"
      ]
    },
    {
      "cell_type": "markdown",
      "metadata": {
        "id": "-0_8OQbOTTNT"
      },
      "source": [
        "The next thing you need to import is the policy class that will be used to create the networks (for the policy/value functions).\n",
        "This step is optional as you can directly use strings in the constructor:\n",
        "\n",
        "```PPO('MlpPolicy', env)``` instead of ```PPO(MlpPolicy, env)```\n",
        "\n",
        "Note that some algorithms like `SAC` have their own `MlpPolicy`, that's why using string for the policy is the recommended option."
      ]
    },
    {
      "cell_type": "code",
      "execution_count": 4,
      "metadata": {
        "id": "ROUJr675TT01"
      },
      "outputs": [],
      "source": [
        "from stable_baselines3.ppo.policies import MlpPolicy"
      ]
    },
    {
      "cell_type": "markdown",
      "metadata": {
        "id": "RapkYvTXL7Cd"
      },
      "source": [
        "## Create the Gym env and instantiate the agent\n",
        "\n",
        "For this example, we will use CartPole environment, a classic control problem.\n",
        "\n",
        "\"A pole is attached by an un-actuated joint to a cart, which moves along a frictionless track. The system is controlled by applying a force of +1 or -1 to the cart. The pendulum starts upright, and the goal is to prevent it from falling over. A reward of +1 is provided for every timestep that the pole remains upright. \"\n",
        "\n",
        "Cartpole environment: [https://gymnasium.farama.org/environments/classic_control/cart_pole/](https://gymnasium.farama.org/environments/classic_control/cart_pole/)\n",
        "\n",
        "![Cartpole](https://cdn-images-1.medium.com/max/1143/1*h4WTQNVIsvMXJTCpXm_TAw.gif)\n",
        "\n",
        "\n",
        "We chose the MlpPolicy because the observation of the CartPole task is a feature vector, not images.\n",
        "\n",
        "The type of action to use (discrete/continuous) will be automatically deduced from the environment action space\n",
        "\n",
        "Here we are using the [Proximal Policy Optimization](https://stable-baselines3.readthedocs.io/en/master/modules/ppo.html) algorithm, which is an Actor-Critic method: it uses a value function to improve the policy gradient descent (by reducing the variance).\n",
        "\n",
        "It combines ideas from [A2C](https://stable-baselines3.readthedocs.io/en/master/modules/a2c.html) (having multiple workers and using an entropy bonus for exploration) and [TRPO](https://stable-baselines.readthedocs.io/en/master/modules/trpo.html) (it uses a trust region to improve stability and avoid catastrophic drops in performance).\n",
        "\n",
        "PPO is an on-policy algorithm, which means that the trajectories used to update the networks must be collected using the latest policy.\n",
        "It is usually less sample efficient than off-policy alorithms like [DQN](https://stable-baselines.readthedocs.io/en/master/modules/dqn.html), [SAC](https://stable-baselines3.readthedocs.io/en/master/modules/sac.html) or [TD3](https://stable-baselines3.readthedocs.io/en/master/modules/td3.html), but is much faster regarding wall-clock time.\n"
      ]
    },
    {
      "cell_type": "code",
      "execution_count": 5,
      "metadata": {
        "id": "pUWGZp3i9wyf"
      },
      "outputs": [],
      "source": [
        "env = gym.make(\"CartPole-v1\")\n",
        "\n",
        "model = PPO(MlpPolicy, env, verbose=0)"
      ]
    },
    {
      "cell_type": "markdown",
      "metadata": {
        "id": "4efFdrQ7MBvl"
      },
      "source": [
        "We create a helper function to evaluate the agent:"
      ]
    },
    {
      "cell_type": "code",
      "execution_count": 6,
      "metadata": {
        "id": "63M8mSKR-6Zt"
      },
      "outputs": [],
      "source": [
        "from stable_baselines3.common.base_class import BaseAlgorithm\n",
        "\n",
        "\n",
        "def evaluate(\n",
        "    model: BaseAlgorithm,\n",
        "    num_episodes: int = 100,\n",
        "    deterministic: bool = True,\n",
        ") -> float:\n",
        "    \"\"\"\n",
        "    Evaluate an RL agent for `num_episodes`.\n",
        "\n",
        "    :param model: the RL Agent\n",
        "    :param env: the gym Environment\n",
        "    :param num_episodes: number of episodes to evaluate it\n",
        "    :param deterministic: Whether to use deterministic or stochastic actions\n",
        "    :return: Mean reward for the last `num_episodes`\n",
        "    \"\"\"\n",
        "    # This function will only work for a single environment\n",
        "    vec_env = model.get_env()\n",
        "    obs = vec_env.reset()\n",
        "    all_episode_rewards = []\n",
        "    for _ in range(num_episodes):\n",
        "        episode_rewards = []\n",
        "        done = False\n",
        "        # Note: SB3 VecEnv resets automatically:\n",
        "        # https://stable-baselines3.readthedocs.io/en/master/guide/vec_envs.html#vecenv-api-vs-gym-api\n",
        "        # obs = vec_env.reset()\n",
        "        while not done:\n",
        "            # _states are only useful when using LSTM policies\n",
        "            # `deterministic` is to use deterministic actions\n",
        "            action, _states = model.predict(obs, deterministic=deterministic)\n",
        "            # here, action, rewards and dones are arrays\n",
        "            # because we are using vectorized env\n",
        "            obs, reward, done, _info = vec_env.step(action)\n",
        "            episode_rewards.append(reward)\n",
        "\n",
        "        all_episode_rewards.append(sum(episode_rewards))\n",
        "\n",
        "    mean_episode_reward = np.mean(all_episode_rewards)\n",
        "    print(f\"Mean reward: {mean_episode_reward:.2f} - Num episodes: {num_episodes}\")\n",
        "\n",
        "    return mean_episode_reward"
      ]
    },
    {
      "cell_type": "markdown",
      "metadata": {
        "id": "zjEVOIY8NVeK"
      },
      "source": [
        "Let's evaluate the un-trained agent, this should be a random agent."
      ]
    },
    {
      "cell_type": "code",
      "execution_count": 7,
      "metadata": {
        "id": "xDHLMA6NFk95",
        "colab": {
          "base_uri": "https://localhost:8080/"
        },
        "outputId": "48bf7e0a-3851-4ed6-bfc9-e7d8edbd1970"
      },
      "outputs": [
        {
          "output_type": "stream",
          "name": "stdout",
          "text": [
            "Mean reward: 80.69 - Num episodes: 100\n"
          ]
        }
      ],
      "source": [
        "# Random Agent, before training\n",
        "mean_reward_before_train = evaluate(model, num_episodes=100, deterministic=True)"
      ]
    },
    {
      "cell_type": "markdown",
      "metadata": {
        "id": "QjjPxrwkYJ2i"
      },
      "source": [
        "Stable-Baselines already provides you with that helper:"
      ]
    },
    {
      "cell_type": "code",
      "execution_count": 8,
      "metadata": {
        "id": "8z6K9YImYJEx"
      },
      "outputs": [],
      "source": [
        "from stable_baselines3.common.evaluation import evaluate_policy"
      ]
    },
    {
      "cell_type": "code",
      "execution_count": 9,
      "metadata": {
        "id": "4oPTHjxyZSOL",
        "colab": {
          "base_uri": "https://localhost:8080/"
        },
        "outputId": "30c542e7-0b47-435b-eb27-95e96ac16795"
      },
      "outputs": [
        {
          "output_type": "stream",
          "name": "stdout",
          "text": [
            "mean_reward: 82.90 +/- 35.53\n"
          ]
        }
      ],
      "source": [
        "mean_reward, std_reward = evaluate_policy(model, env, n_eval_episodes=100, warn=False)\n",
        "\n",
        "print(f\"mean_reward: {mean_reward:.2f} +/- {std_reward:.2f}\")"
      ]
    },
    {
      "cell_type": "markdown",
      "metadata": {
        "id": "r5UoXTZPNdFE"
      },
      "source": [
        "## Train the agent and evaluate it"
      ]
    },
    {
      "cell_type": "code",
      "execution_count": 10,
      "metadata": {
        "id": "e4cfSXIB-pTF",
        "colab": {
          "base_uri": "https://localhost:8080/"
        },
        "outputId": "4d4d7631-ad4b-4fbf-d3dc-02b097739d10"
      },
      "outputs": [
        {
          "output_type": "execute_result",
          "data": {
            "text/plain": [
              "<stable_baselines3.ppo.ppo.PPO at 0x7b095feca1d0>"
            ]
          },
          "metadata": {},
          "execution_count": 10
        }
      ],
      "source": [
        "# Train the agent for 10000 steps\n",
        "model.learn(total_timesteps=10_000)"
      ]
    },
    {
      "cell_type": "code",
      "execution_count": 11,
      "metadata": {
        "id": "ygl_gVmV_QP7",
        "colab": {
          "base_uri": "https://localhost:8080/"
        },
        "outputId": "15dc9203-0ca9-4d95-ad02-c990ee22d44c"
      },
      "outputs": [
        {
          "output_type": "stream",
          "name": "stderr",
          "text": [
            "/usr/local/lib/python3.11/dist-packages/stable_baselines3/common/evaluation.py:67: UserWarning: Evaluation environment is not wrapped with a ``Monitor`` wrapper. This may result in reporting modified episode lengths and rewards, if other wrappers happen to modify these. Consider wrapping environment first with ``Monitor`` wrapper.\n",
            "  warnings.warn(\n"
          ]
        },
        {
          "output_type": "stream",
          "name": "stdout",
          "text": [
            "mean_reward:402.10 +/- 109.81\n"
          ]
        }
      ],
      "source": [
        "# Evaluate the trained agent\n",
        "mean_reward, std_reward = evaluate_policy(model, env, n_eval_episodes=100)\n",
        "\n",
        "print(f\"mean_reward:{mean_reward:.2f} +/- {std_reward:.2f}\")"
      ]
    },
    {
      "cell_type": "markdown",
      "metadata": {
        "id": "A00W6yY3NkHG"
      },
      "source": [
        "Apparently the training went well, the mean reward increased a lot !"
      ]
    },
    {
      "cell_type": "markdown",
      "metadata": {
        "id": "xVm9QPNVwKXN"
      },
      "source": [
        "### Prepare video recording"
      ]
    },
    {
      "cell_type": "code",
      "execution_count": 12,
      "metadata": {
        "id": "MPyfQxD5z26J"
      },
      "outputs": [],
      "source": [
        "# Set up fake display; otherwise rendering will fail\n",
        "import os\n",
        "os.system(\"Xvfb :1 -screen 0 1024x768x24 &\")\n",
        "os.environ['DISPLAY'] = ':1'"
      ]
    },
    {
      "cell_type": "code",
      "execution_count": 13,
      "metadata": {
        "id": "SLzXxO8VMD6N"
      },
      "outputs": [],
      "source": [
        "import base64\n",
        "from pathlib import Path\n",
        "\n",
        "from IPython import display as ipythondisplay\n",
        "\n",
        "\n",
        "def show_videos(video_path=\"\", prefix=\"\"):\n",
        "    \"\"\"\n",
        "    Taken from https://github.com/eleurent/highway-env\n",
        "\n",
        "    :param video_path: (str) Path to the folder containing videos\n",
        "    :param prefix: (str) Filter the video, showing only the only starting with this prefix\n",
        "    \"\"\"\n",
        "    html = []\n",
        "    for mp4 in Path(video_path).glob(\"{}*.mp4\".format(prefix)):\n",
        "        video_b64 = base64.b64encode(mp4.read_bytes())\n",
        "        html.append(\n",
        "            \"\"\"<video alt=\"{}\" autoplay\n",
        "                    loop controls style=\"height: 400px;\">\n",
        "                    <source src=\"data:video/mp4;base64,{}\" type=\"video/mp4\" />\n",
        "                </video>\"\"\".format(\n",
        "                mp4, video_b64.decode(\"ascii\")\n",
        "            )\n",
        "        )\n",
        "    ipythondisplay.display(ipythondisplay.HTML(data=\"<br>\".join(html)))"
      ]
    },
    {
      "cell_type": "markdown",
      "metadata": {
        "id": "LTRNUfulOGaF"
      },
      "source": [
        "We will record a video using the [VecVideoRecorder](https://stable-baselines3.readthedocs.io/en/master/guide/vec_envs.html#vecvideorecorder) wrapper, you will learn about those wrapper in the next notebook."
      ]
    },
    {
      "cell_type": "code",
      "execution_count": 14,
      "metadata": {
        "id": "Trag9dQpOIhx"
      },
      "outputs": [],
      "source": [
        "from stable_baselines3.common.vec_env import VecVideoRecorder, DummyVecEnv\n",
        "\n",
        "\n",
        "def record_video(env_id, model, video_length=500, prefix=\"\", video_folder=\"videos/\"):\n",
        "    \"\"\"\n",
        "    :param env_id: (str)\n",
        "    :param model: (RL model)\n",
        "    :param video_length: (int)\n",
        "    :param prefix: (str)\n",
        "    :param video_folder: (str)\n",
        "    \"\"\"\n",
        "    eval_env = DummyVecEnv([lambda: gym.make(env_id, render_mode=\"rgb_array\")])\n",
        "    # Start the video at step=0 and record 500 steps\n",
        "    eval_env = VecVideoRecorder(\n",
        "        eval_env,\n",
        "        video_folder=video_folder,\n",
        "        record_video_trigger=lambda step: step == 0,\n",
        "        video_length=video_length,\n",
        "        name_prefix=prefix,\n",
        "    )\n",
        "\n",
        "    obs = eval_env.reset()\n",
        "    for _ in range(video_length):\n",
        "        action, _ = model.predict(obs)\n",
        "        obs, _, _, _ = eval_env.step(action)\n",
        "\n",
        "    # Close the video recorder\n",
        "    eval_env.close()"
      ]
    },
    {
      "cell_type": "markdown",
      "metadata": {
        "id": "KOObbeu5MMlR"
      },
      "source": [
        "### Visualize trained agent\n",
        "\n"
      ]
    },
    {
      "cell_type": "code",
      "execution_count": 15,
      "metadata": {
        "id": "iATu7AiyMQW2",
        "colab": {
          "base_uri": "https://localhost:8080/"
        },
        "outputId": "013f55d7-3cde-4bd7-b1de-fc20dea80f5e"
      },
      "outputs": [
        {
          "output_type": "stream",
          "name": "stderr",
          "text": [
            "/usr/local/lib/python3.11/dist-packages/pygame/pkgdata.py:25: DeprecationWarning: pkg_resources is deprecated as an API. See https://setuptools.pypa.io/en/latest/pkg_resources.html\n",
            "  from pkg_resources import resource_stream, resource_exists\n",
            "/usr/local/lib/python3.11/dist-packages/pkg_resources/__init__.py:3154: DeprecationWarning: Deprecated call to `pkg_resources.declare_namespace('google')`.\n",
            "Implementing implicit namespace packages (as specified in PEP 420) is preferred to `pkg_resources.declare_namespace`. See https://setuptools.pypa.io/en/latest/references/keywords.html#keyword-namespace-packages\n",
            "  declare_namespace(pkg)\n",
            "/usr/local/lib/python3.11/dist-packages/pkg_resources/__init__.py:3154: DeprecationWarning: Deprecated call to `pkg_resources.declare_namespace('google.cloud')`.\n",
            "Implementing implicit namespace packages (as specified in PEP 420) is preferred to `pkg_resources.declare_namespace`. See https://setuptools.pypa.io/en/latest/references/keywords.html#keyword-namespace-packages\n",
            "  declare_namespace(pkg)\n",
            "/usr/local/lib/python3.11/dist-packages/pkg_resources/__init__.py:3154: DeprecationWarning: Deprecated call to `pkg_resources.declare_namespace('sphinxcontrib')`.\n",
            "Implementing implicit namespace packages (as specified in PEP 420) is preferred to `pkg_resources.declare_namespace`. See https://setuptools.pypa.io/en/latest/references/keywords.html#keyword-namespace-packages\n",
            "  declare_namespace(pkg)\n"
          ]
        },
        {
          "output_type": "stream",
          "name": "stdout",
          "text": [
            "Saving video to /content/videos/ppo-cartpole-step-0-to-step-500.mp4\n"
          ]
        },
        {
          "output_type": "stream",
          "name": "stderr",
          "text": [
            "/usr/local/lib/python3.11/dist-packages/moviepy/config_defaults.py:1: DeprecationWarning: invalid escape sequence '\\P'\n",
            "  \"\"\"\n"
          ]
        },
        {
          "output_type": "stream",
          "name": "stdout",
          "text": [
            "Moviepy - Building video /content/videos/ppo-cartpole-step-0-to-step-500.mp4.\n",
            "Moviepy - Writing video /content/videos/ppo-cartpole-step-0-to-step-500.mp4\n",
            "\n"
          ]
        },
        {
          "output_type": "stream",
          "name": "stderr",
          "text": []
        },
        {
          "output_type": "stream",
          "name": "stdout",
          "text": [
            "Moviepy - Done !\n",
            "Moviepy - video ready /content/videos/ppo-cartpole-step-0-to-step-500.mp4\n"
          ]
        }
      ],
      "source": [
        "record_video(\"CartPole-v1\", model, video_length=500, prefix=\"ppo-cartpole\")"
      ]
    },
    {
      "cell_type": "code",
      "execution_count": 16,
      "metadata": {
        "id": "-n4i-fW3NojZ",
        "colab": {
          "base_uri": "https://localhost:8080/",
          "height": 421
        },
        "outputId": "8b0fc144-5cf0-43f8-8bad-09374f391de9"
      },
      "outputs": [
        {
          "output_type": "display_data",
          "data": {
            "text/plain": [
              "<IPython.core.display.HTML object>"
            ],
            "text/html": [
              "<video alt=\"videos/ppo-cartpole-step-0-to-step-500.mp4\" autoplay\n",
              "                    loop controls style=\"height: 400px;\">\n",
              "                    <source src=\"data:video/mp4;base64,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\" type=\"video/mp4\" />\n",
              "                </video>"
            ]
          },
          "metadata": {}
        }
      ],
      "source": [
        "show_videos(\"videos\", prefix=\"ppo\")"
      ]
    },
    {
      "cell_type": "markdown",
      "metadata": {
        "id": "9Y8zg4V566qD"
      },
      "source": [
        "## Bonus: Train a RL Model in One Line\n",
        "\n",
        "The policy class to use will be inferred and the environment will be automatically created. This works because both are [registered](https://stable-baselines3.readthedocs.io/en/master/guide/quickstart.html)."
      ]
    },
    {
      "cell_type": "code",
      "execution_count": null,
      "metadata": {
        "id": "iaOPfOrwWEP4"
      },
      "outputs": [],
      "source": [
        "model = PPO('MlpPolicy', \"CartPole-v1\", verbose=1).learn(1000)"
      ]
    },
    {
      "cell_type": "markdown",
      "metadata": {
        "id": "FrI6f5fWnzp-"
      },
      "source": [
        "## Conclusion\n",
        "\n",
        "In this notebook we have seen:\n",
        "- how to define and train a RL model using stable baselines3, it takes only one line of code ;)"
      ]
    },
    {
      "cell_type": "code",
      "execution_count": null,
      "metadata": {
        "id": "73ji3gbNDkf7"
      },
      "outputs": [],
      "source": []
    }
  ],
  "metadata": {
    "accelerator": "GPU",
    "colab": {
      "name": "1_getting_started.ipynb",
      "provenance": [],
      "include_colab_link": true
    },
    "kernelspec": {
      "display_name": "Python 3 (ipykernel)",
      "language": "python",
      "name": "python3"
    },
    "language_info": {
      "codemirror_mode": {
        "name": "ipython",
        "version": 3
      },
      "file_extension": ".py",
      "mimetype": "text/x-python",
      "name": "python",
      "nbconvert_exporter": "python",
      "pygments_lexer": "ipython3",
      "version": "3.10.9"
    }
  },
  "nbformat": 4,
  "nbformat_minor": 0
}